{
 "cells": [
  {
   "cell_type": "code",
   "execution_count": null,
   "metadata": {},
   "outputs": [],
   "source": [
    "# check DOCUMENT_SUBMISSION\n"
   ]
  },
  {
   "cell_type": "code",
   "execution_count": 3,
   "metadata": {},
   "outputs": [],
   "source": [
    "import pandas as pd\n",
    "import numpy as np\n",
    "import re\n",
    "import matplotlib.pyplot as plt\n",
    "import seaborn as sns\n",
    "pd.set_option('display.max_colwidth',-1)\n",
    "\n",
    "from sklearn.datasets import load_boston\n",
    "from sklearn.pipeline import Pipeline\n",
    "from sklearn.linear_model import RidgeCV\n",
    "from sklearn.preprocessing import StandardScaler\n",
    "from sklearn.model_selection import GridSearchCV, train_test_split\n",
    "import joblib\n",
    "import pickle\n",
    "\n",
    "from numpy import mean\n",
    "from sklearn.datasets import make_classification\n",
    "from sklearn.model_selection import cross_val_score\n",
    "from sklearn.model_selection import RepeatedStratifiedKFold\n",
    "from sklearn.tree import DecisionTreeClassifier\n",
    "from imblearn.pipeline import Pipeline\n",
    "from imblearn.over_sampling import SMOTE\n",
    "from imblearn.under_sampling import RandomUnderSampler\n",
    "\n",
    "from sklearn.preprocessing import StandardScaler, MinMaxScaler\n",
    "from sklearn.linear_model import LinearRegression, LogisticRegression, LogisticRegressionCV\n",
    "from sklearn.model_selection import train_test_split, cross_val_score, GridSearchCV\n",
    "from sklearn.model_selection import cross_val_predict, KFold, StratifiedKFold\n",
    "from sklearn.feature_extraction.text import TfidfVectorizer\n",
    "from sklearn.tree import DecisionTreeRegressor,DecisionTreeClassifier\n",
    "from sklearn.decomposition import PCA\n",
    "from sklearn.preprocessing import StandardScaler\n",
    "from sklearn.pipeline import make_pipeline\n",
    "from sklearn.metrics import classification_report, confusion_matrix\n",
    "from sklearn.ensemble import BaggingClassifier\n",
    "\n",
    "from matplotlib.colors import ListedColormap\n",
    "from sklearn.neighbors import KNeighborsClassifier\n",
    "\n",
    "from sklearn.metrics import accuracy_score\n",
    "from sklearn.metrics import precision_score\n",
    "from sklearn.metrics import recall_score\n",
    "\n",
    "from sklearn.ensemble import RandomForestClassifier\n",
    "from sklearn.datasets import make_regression\n",
    "\n",
    "from imblearn.over_sampling import SMOTENC\n",
    "\n",
    "from sklearn.ensemble import AdaBoostClassifier, AdaBoostRegressor, GradientBoostingClassifier, GradientBoostingRegressor\n",
    "from sklearn.tree import DecisionTreeClassifier, DecisionTreeRegressor\n",
    "from sklearn import datasets\n",
    "from sklearn.model_selection import cross_val_score, train_test_split\n",
    "from sklearn.metrics import accuracy_score, r2_score, mean_squared_error\n",
    "\n",
    "%config InlineBackend.figure_format = 'retina'\n",
    "%matplotlib inline"
   ]
  },
  {
   "cell_type": "code",
   "execution_count": 50,
   "metadata": {},
   "outputs": [],
   "source": [
    "pd.set_option('display.max_columns',500)\n",
    "pd.set_option('display.max_rows', 500)"
   ]
  },
  {
   "cell_type": "code",
   "execution_count": 24,
   "metadata": {},
   "outputs": [
    {
     "ename": "NameError",
     "evalue": "name 'train' is not defined",
     "output_type": "error",
     "traceback": [
      "\u001b[0;31m---------------------------------------------------------------------------\u001b[0m",
      "\u001b[0;31mNameError\u001b[0m                                 Traceback (most recent call last)",
      "\u001b[0;32m<ipython-input-24-3b77fa18a747>\u001b[0m in \u001b[0;36m<module>\u001b[0;34m\u001b[0m\n\u001b[0;32m----> 1\u001b[0;31m \u001b[0mtrain\u001b[0m\u001b[0;34m.\u001b[0m\u001b[0mhead\u001b[0m\u001b[0;34m(\u001b[0m\u001b[0;34m)\u001b[0m\u001b[0;34m\u001b[0m\u001b[0;34m\u001b[0m\u001b[0m\n\u001b[0m",
      "\u001b[0;31mNameError\u001b[0m: name 'train' is not defined"
     ]
    }
   ],
   "source": [
    "train.head()"
   ]
  },
  {
   "cell_type": "code",
   "execution_count": 60,
   "metadata": {},
   "outputs": [],
   "source": [
    "train=pd.read_csv('/Users/st/Desktop/Project Datasets/home-credit-default-risk/Cleaned files/application_train_clean19')\n"
   ]
  },
  {
   "cell_type": "code",
   "execution_count": 56,
   "metadata": {},
   "outputs": [],
   "source": [
    "ip=pd.read_csv('/Users/st/Desktop/Project Datasets/home-credit-default-risk/Cleaned files/\\\n",
    "installment_payments_clean19')"
   ]
  },
  {
   "cell_type": "code",
   "execution_count": 57,
   "metadata": {},
   "outputs": [],
   "source": [
    "pa=pd.read_csv('/Users/st/Desktop/Project Datasets/home-credit-default-risk/Cleaned files/prev_app_clean19')\n",
    "# pa.drop(['SK_ID_PREV'],inplace=True,axis=1)"
   ]
  },
  {
   "cell_type": "code",
   "execution_count": 58,
   "metadata": {},
   "outputs": [],
   "source": [
    "bureau=pd.read_csv('/Users/st/Desktop/Project Datasets/home-credit-default-risk/Cleaned files/bureau19')"
   ]
  },
  {
   "cell_type": "code",
   "execution_count": 59,
   "metadata": {},
   "outputs": [],
   "source": [
    "cc=pd.read_csv('/Users/st/Desktop/Project Datasets/home-credit-default-risk/Cleaned files/cc_bal_clean19')\n",
    "# cc.drop(['SK_ID_PREV'],inplace=True,axis=1)"
   ]
  },
  {
   "cell_type": "code",
   "execution_count": 61,
   "metadata": {},
   "outputs": [
    {
     "data": {
      "text/plain": [
       "(291643, 53)"
      ]
     },
     "execution_count": 61,
     "metadata": {},
     "output_type": "execute_result"
    }
   ],
   "source": [
    "merged=train.merge(ip,how='inner',left_on='SK_ID_CURR', right_on='SK_ID_CURR')\n",
    "merged.shape"
   ]
  },
  {
   "cell_type": "code",
   "execution_count": 62,
   "metadata": {},
   "outputs": [
    {
     "data": {
      "text/plain": [
       "(290131, 202)"
      ]
     },
     "execution_count": 62,
     "metadata": {},
     "output_type": "execute_result"
    }
   ],
   "source": [
    "merged=merged.merge(pa,how='inner',left_on='SK_ID_CURR', right_on='SK_ID_CURR')\n",
    "merged.shape"
   ]
  },
  {
   "cell_type": "code",
   "execution_count": 63,
   "metadata": {},
   "outputs": [
    {
     "data": {
      "text/plain": [
       "(248721, 239)"
      ]
     },
     "execution_count": 63,
     "metadata": {},
     "output_type": "execute_result"
    }
   ],
   "source": [
    "merged=merged.merge(bureau,how='inner',left_on='SK_ID_CURR', right_on='SK_ID_CURR')\n",
    "merged.shape"
   ]
  },
  {
   "cell_type": "code",
   "execution_count": 64,
   "metadata": {},
   "outputs": [
    {
     "data": {
      "text/plain": [
       "(74472, 273)"
      ]
     },
     "execution_count": 64,
     "metadata": {},
     "output_type": "execute_result"
    }
   ],
   "source": [
    "merged=merged.merge(cc,how='inner',left_on='SK_ID_CURR', right_on='SK_ID_CURR')\n",
    "merged.shape"
   ]
  },
  {
   "cell_type": "code",
   "execution_count": 65,
   "metadata": {},
   "outputs": [],
   "source": [
    "# merge_obj=merged1.select_dtypes(include=['float64'])\n",
    "\n",
    "merged1=merged.copy()\n",
    "# merged1.drop(['Unnamed: 0'],inplace=True,axis=1)"
   ]
  },
  {
   "cell_type": "code",
   "execution_count": 35,
   "metadata": {},
   "outputs": [],
   "source": [
    "# merged1.fillna(0,inplace=True)\n",
    "# [col for col in merged1.columns]\n",
    "\n",
    "# merged1=pd.read_csv('merged1')"
   ]
  },
  {
   "cell_type": "code",
   "execution_count": 66,
   "metadata": {},
   "outputs": [
    {
     "data": {
      "text/plain": [
       "0"
      ]
     },
     "execution_count": 66,
     "metadata": {},
     "output_type": "execute_result"
    }
   ],
   "source": [
    "merged1.isnull().sum().sum()\n"
   ]
  },
  {
   "cell_type": "code",
   "execution_count": 37,
   "metadata": {},
   "outputs": [
    {
     "data": {
      "text/html": [
       "<div>\n",
       "<style scoped>\n",
       "    .dataframe tbody tr th:only-of-type {\n",
       "        vertical-align: middle;\n",
       "    }\n",
       "\n",
       "    .dataframe tbody tr th {\n",
       "        vertical-align: top;\n",
       "    }\n",
       "\n",
       "    .dataframe thead th {\n",
       "        text-align: right;\n",
       "    }\n",
       "</style>\n",
       "<table border=\"1\" class=\"dataframe\">\n",
       "  <thead>\n",
       "    <tr style=\"text-align: right;\">\n",
       "      <th></th>\n",
       "      <th>ACCOMPANIED</th>\n",
       "      <th>ACCOMPANIED_PA</th>\n",
       "    </tr>\n",
       "  </thead>\n",
       "  <tbody>\n",
       "    <tr>\n",
       "      <td>0</td>\n",
       "      <td>1</td>\n",
       "      <td>0.250000</td>\n",
       "    </tr>\n",
       "    <tr>\n",
       "      <td>1</td>\n",
       "      <td>0</td>\n",
       "      <td>0.500000</td>\n",
       "    </tr>\n",
       "    <tr>\n",
       "      <td>2</td>\n",
       "      <td>1</td>\n",
       "      <td>0.375000</td>\n",
       "    </tr>\n",
       "    <tr>\n",
       "      <td>3</td>\n",
       "      <td>0</td>\n",
       "      <td>0.222222</td>\n",
       "    </tr>\n",
       "    <tr>\n",
       "      <td>4</td>\n",
       "      <td>0</td>\n",
       "      <td>0.666667</td>\n",
       "    </tr>\n",
       "    <tr>\n",
       "      <td>...</td>\n",
       "      <td>...</td>\n",
       "      <td>...</td>\n",
       "    </tr>\n",
       "    <tr>\n",
       "      <td>74467</td>\n",
       "      <td>0</td>\n",
       "      <td>0.333333</td>\n",
       "    </tr>\n",
       "    <tr>\n",
       "      <td>74468</td>\n",
       "      <td>0</td>\n",
       "      <td>0.000000</td>\n",
       "    </tr>\n",
       "    <tr>\n",
       "      <td>74469</td>\n",
       "      <td>0</td>\n",
       "      <td>0.055556</td>\n",
       "    </tr>\n",
       "    <tr>\n",
       "      <td>74470</td>\n",
       "      <td>0</td>\n",
       "      <td>0.000000</td>\n",
       "    </tr>\n",
       "    <tr>\n",
       "      <td>74471</td>\n",
       "      <td>0</td>\n",
       "      <td>0.200000</td>\n",
       "    </tr>\n",
       "  </tbody>\n",
       "</table>\n",
       "<p>74472 rows × 2 columns</p>\n",
       "</div>"
      ],
      "text/plain": [
       "       ACCOMPANIED  ACCOMPANIED_PA\n",
       "0      1            0.250000      \n",
       "1      0            0.500000      \n",
       "2      1            0.375000      \n",
       "3      0            0.222222      \n",
       "4      0            0.666667      \n",
       "...   ..                 ...      \n",
       "74467  0            0.333333      \n",
       "74468  0            0.000000      \n",
       "74469  0            0.055556      \n",
       "74470  0            0.000000      \n",
       "74471  0            0.200000      \n",
       "\n",
       "[74472 rows x 2 columns]"
      ]
     },
     "execution_count": 37,
     "metadata": {},
     "output_type": "execute_result"
    }
   ],
   "source": [
    "# # saving on file size by type conversion\n",
    "# for i in range(len(merged1.dtypes)):\n",
    "#     if merged1.dtypes[i]=='int64':\n",
    "#         merged1[merged1.columns[i]]=merged1[merged1.columns[i]].astype(float).astype(float)\n",
    "merged1.ACCOMPANIED_PA.value_counts()\n",
    "\n",
    "merged1[[col for col in merged1.columns if 'ACCOMPANIED' in col]]"
   ]
  },
  {
   "cell_type": "code",
   "execution_count": 12,
   "metadata": {},
   "outputs": [],
   "source": [
    "cor=merged1.corr()"
   ]
  },
  {
   "cell_type": "code",
   "execution_count": 13,
   "metadata": {},
   "outputs": [],
   "source": [
    "corcol=cor.iloc[:,2:][cor>0.2].columns\n",
    "corcol1=np.array(corcol.append(cor.columns[:2]))"
   ]
  },
  {
   "cell_type": "code",
   "execution_count": 14,
   "metadata": {},
   "outputs": [
    {
     "data": {
      "text/plain": [
       "(74472, 258)"
      ]
     },
     "execution_count": 14,
     "metadata": {},
     "output_type": "execute_result"
    }
   ],
   "source": [
    "merged1=merged1[corcol1]\n",
    "merged1.head()\n",
    "merged1.shape"
   ]
  },
  {
   "cell_type": "code",
   "execution_count": 15,
   "metadata": {},
   "outputs": [],
   "source": [
    "# obj_df[\"OHC_Code\"] = np.where(obj_df[\"engine_type\"].str.contains(\"ohc\"), 1, other=0)\n",
    "\n",
    "\n",
    "# merged.iloc[:,(np.where(merged1.columns.str.contains(\"_AVG\"),1,0))]\n",
    "\n",
    "# merged1\n",
    "\n",
    "# df=merged1.select_dtypes(include=['float64'])\n",
    "\n",
    "# df[df_float.columns[df_float.columns.str.contains(\"AMT\")]]"
   ]
  },
  {
   "cell_type": "code",
   "execution_count": 16,
   "metadata": {},
   "outputs": [],
   "source": [
    "# merged1[merged1.columns[merged1.columns.str.contains('REGION')]]\n",
    "\n",
    "# # merged1.CNT_CHILDREN.value_counts()\n",
    "\n",
    "# merged1.DAYS_FIRST_DRAWING.value_counts()"
   ]
  },
  {
   "cell_type": "code",
   "execution_count": 17,
   "metadata": {},
   "outputs": [],
   "source": [
    "# merged1.dtypes"
   ]
  },
  {
   "cell_type": "code",
   "execution_count": 18,
   "metadata": {},
   "outputs": [
    {
     "data": {
      "text/plain": [
       "0"
      ]
     },
     "execution_count": 18,
     "metadata": {},
     "output_type": "execute_result"
    }
   ],
   "source": [
    "merged1.isnull().sum().sum()"
   ]
  },
  {
   "cell_type": "code",
   "execution_count": null,
   "metadata": {},
   "outputs": [],
   "source": []
  },
  {
   "cell_type": "code",
   "execution_count": 67,
   "metadata": {},
   "outputs": [],
   "source": [
    "\n",
    "merged1.REGION_POPULATION_RELATIVE= merged1.REGION_POPULATION_RELATIVE.apply(lambda x:'LOW' if x<0.010006 \n",
    "                                                                             else('HIGH' if x>0.028663 else 'MED'))\n",
    "\n",
    "merged1.CNT_CHILDREN= merged1.CNT_CHILDREN.apply(lambda x:'LOW' if x<=0 \n",
    "                                                 else('HIGH' if x>2 else 'MED'))\n",
    "\n",
    "merged1.DAYS_REGISTRATION= merged1.DAYS_REGISTRATION.apply(lambda x:'OLD' if x<=-7489 \n",
    "                                                           else('NEW' if x>-2029 else 'MID'))\n",
    "\n",
    "# merged1.EXT_SOURCE_1= merged1.EXT_SOURCE_1.apply(lambda x:'LOW' if x<0.502130\n",
    "#                                                  else('HIGH' if x>0.502130 else 'MED'))\n",
    "\n",
    "merged1.DAYS_EMPLOYED= merged1.DAYS_EMPLOYED.apply(lambda x:'HIGH' if x<-3072\n",
    "                                                 else('LOW' if x>-460 else 'MED'))\n",
    "\n",
    "merged1.DEF_60_CNT_SOCIAL_CIRCLE= merged1.DEF_60_CNT_SOCIAL_CIRCLE.apply(lambda x:'LOW' if x<0.101120\n",
    "                                                 else('HIGH' if x>5 else 'MED'))\n",
    "\n",
    "merged1.RATE_INTEREST_PRIMARY= merged1.RATE_INTEREST_PRIMARY.apply(lambda x:'LOW' if x<0.188730\n",
    "                                                                   else('HIGH' if x>0.188730 else 'MED'))\n",
    "\n",
    "\n",
    "merged1.RATE_DOWN_PAYMENT= merged1.RATE_DOWN_PAYMENT.apply(lambda x:'LOW' if x<0.000000\n",
    "                                                                   else('HIGH' if x>0.108909 else 'MED'))\n",
    "\n",
    "\n",
    "merged1.REGION_RATING_CLIENT=merged1.REGION_RATING_CLIENT.astype('object')\n",
    "merged1.REGION_RATING_CLIENT_W_CITY=merged1.REGION_RATING_CLIENT_W_CITY.astype('object')\n",
    "merged1.REG_REGION_NOT_LIVE_REGION=merged1.REG_REGION_NOT_LIVE_REGION.astype('object')\n",
    "merged1.LIVE_REGION_NOT_WORK_REGION=merged1.LIVE_REGION_NOT_WORK_REGION.astype('object')\n",
    "merged1.REG_REGION_NOT_WORK_REGION=merged1.REG_REGION_NOT_WORK_REGION.astype('object')\n",
    "\n",
    "# mostly nans\n",
    "# merged1.drop(['DAYS_FIRST_DRAWING','WEEKDAY_APPR_PROCESS_START','HOUR_APPR_PROCESS_START'],inplace=True,axis=1)\n",
    "\n",
    "\n",
    "# merged1.REGION_POPULATION_RELATIVE.value_counts()"
   ]
  },
  {
   "cell_type": "code",
   "execution_count": 40,
   "metadata": {},
   "outputs": [
    {
     "data": {
      "image/png": "[encoded data removed]",
      "text/plain": [
       "<Figure size 432x288 with 1 Axes>"
      ]
     },
     "metadata": {
      "image/png": {
       "height": 277,
       "width": 408
      },
      "needs_background": "light"
     },
     "output_type": "display_data"
    }
   ],
   "source": [
    "ax = sns.countplot(y='CNT_CHILDREN', hue='TARGET',data=merged1,orient='v', palette='Set2').set_title('Number of Children and Default')\n"
   ]
  },
  {
   "cell_type": "code",
   "execution_count": null,
   "metadata": {},
   "outputs": [],
   "source": [
    "\n",
    "\n"
   ]
  },
  {
   "cell_type": "code",
   "execution_count": 6,
   "metadata": {},
   "outputs": [
    {
     "data": {
      "text/html": [
       "<div>\n",
       "<style scoped>\n",
       "    .dataframe tbody tr th:only-of-type {\n",
       "        vertical-align: middle;\n",
       "    }\n",
       "\n",
       "    .dataframe tbody tr th {\n",
       "        vertical-align: top;\n",
       "    }\n",
       "\n",
       "    .dataframe thead th {\n",
       "        text-align: right;\n",
       "    }\n",
       "</style>\n",
       "<table border=\"1\" class=\"dataframe\">\n",
       "  <thead>\n",
       "    <tr style=\"text-align: right;\">\n",
       "      <th></th>\n",
       "      <th>Accuracy Score</th>\n",
       "      <th>Model</th>\n",
       "      <th>Recall Score</th>\n",
       "    </tr>\n",
       "  </thead>\n",
       "  <tbody>\n",
       "    <tr>\n",
       "      <td>0</td>\n",
       "      <td>0.915888</td>\n",
       "      <td>LogisticRegression()</td>\n",
       "      <td>0.034177</td>\n",
       "    </tr>\n",
       "    <tr>\n",
       "      <td>1</td>\n",
       "      <td>0.700451</td>\n",
       "      <td>Pipeline(steps=[('over', SMOTE(sampling_strategy='minority')),\\n                ('pca', PCA(n_components=64)),\\n                ('model',\\n                 LogisticRegression(C=21.54434690031882, max_iter=1000,\\n                                    tol=0.1))])</td>\n",
       "      <td>0.691139</td>\n",
       "    </tr>\n",
       "    <tr>\n",
       "      <td>2</td>\n",
       "      <td>0.700451</td>\n",
       "      <td>Pipeline(steps=[('over', SMOTE(sampling_strategy='minority')),\\n                ('pca', PCA(n_components=64)),\\n                ('model',\\n                 LogisticRegression(C=21.54434690031882, max_iter=1000,\\n                                    tol=0.1))])</td>\n",
       "      <td>0.691139</td>\n",
       "    </tr>\n",
       "    <tr>\n",
       "      <td>3</td>\n",
       "      <td>0.700183</td>\n",
       "      <td>Pipeline(steps=[('over', SMOTE(sampling_strategy='minority')),\\n                ('pca', PCA(n_components=78)),\\n                ('model',\\n                 LogisticRegression(C=21.54434690031882, max_iter=1000,\\n                                    tol=0.1))])</td>\n",
       "      <td>0.685443</td>\n",
       "    </tr>\n",
       "    <tr>\n",
       "      <td>4</td>\n",
       "      <td>0.709475</td>\n",
       "      <td>Pipeline(steps=[('over', SMOTE(sampling_strategy='minority')),\\n                ('pca', PCA(n_components=120)),\\n                ('model', LogisticRegression(C=60, max_iter=1000, tol=0.1))])</td>\n",
       "      <td>0.686076</td>\n",
       "    </tr>\n",
       "    <tr>\n",
       "      <td>5</td>\n",
       "      <td>0.711193</td>\n",
       "      <td>Pipeline(steps=[('over', SMOTE(sampling_strategy='minority')),\\n                ('pca', PCA(n_components=150)),\\n                ('model', LogisticRegression(C=75, max_iter=1000, tol=0.1))])</td>\n",
       "      <td>0.682278</td>\n",
       "    </tr>\n",
       "    <tr>\n",
       "      <td>6</td>\n",
       "      <td>0.914975</td>\n",
       "      <td>MLPClassifier(activation='identity', alpha=1e-10, hidden_layer_sizes=3,\\n              random_state=1, solver='lbfgs')</td>\n",
       "      <td>0.030380</td>\n",
       "    </tr>\n",
       "    <tr>\n",
       "      <td>7</td>\n",
       "      <td>0.707058</td>\n",
       "      <td>Pipeline(steps=[('over', SMOTE(sampling_strategy='minority')),\\n                ('pca', PCA(n_components=80)),\\n                ('model',\\n                 MLPClassifier(alpha=3.162277660168379e-06,\\n                               hidden_layer_sizes=5, random_state=1,\\n                               solver='sgd'))])</td>\n",
       "      <td>0.595570</td>\n",
       "    </tr>\n",
       "    <tr>\n",
       "      <td>8</td>\n",
       "      <td>0.798904</td>\n",
       "      <td>Pipeline(steps=[('over', SMOTE(sampling_strategy='minority')),\\n                ('model',\\n                 GradientBoostingClassifier(criterion='mse', learning_rate=0.2,\\n                                            loss='exponential',\\n                                            n_estimators=500,\\n                                            n_iter_no_change=20,\\n                                            random_state=1))])</td>\n",
       "      <td>0.394937</td>\n",
       "    </tr>\n",
       "  </tbody>\n",
       "</table>\n",
       "</div>"
      ],
      "text/plain": [
       "   Accuracy Score  \\\n",
       "0  0.915888         \n",
       "1  0.700451         \n",
       "2  0.700451         \n",
       "3  0.700183         \n",
       "4  0.709475         \n",
       "5  0.711193         \n",
       "6  0.914975         \n",
       "7  0.707058         \n",
       "8  0.798904         \n",
       "\n",
       "                                                                                                                                                                                                                                                                                                                                                                                                                                          Model  \\\n",
       "0  LogisticRegression()                                                                                                                                                                                                                                                                                                                                                                                                                           \n",
       "1  Pipeline(steps=[('over', SMOTE(sampling_strategy='minority')),\\n                ('pca', PCA(n_components=64)),\\n                ('model',\\n                 LogisticRegression(C=21.54434690031882, max_iter=1000,\\n                                    tol=0.1))])                                                                                                                                                                            \n",
       "2  Pipeline(steps=[('over', SMOTE(sampling_strategy='minority')),\\n                ('pca', PCA(n_components=64)),\\n                ('model',\\n                 LogisticRegression(C=21.54434690031882, max_iter=1000,\\n                                    tol=0.1))])                                                                                                                                                                            \n",
       "3  Pipeline(steps=[('over', SMOTE(sampling_strategy='minority')),\\n                ('pca', PCA(n_components=78)),\\n                ('model',\\n                 LogisticRegression(C=21.54434690031882, max_iter=1000,\\n                                    tol=0.1))])                                                                                                                                                                            \n",
       "4  Pipeline(steps=[('over', SMOTE(sampling_strategy='minority')),\\n                ('pca', PCA(n_components=120)),\\n                ('model', LogisticRegression(C=60, max_iter=1000, tol=0.1))])                                                                                                                                                                                                                                                 \n",
       "5  Pipeline(steps=[('over', SMOTE(sampling_strategy='minority')),\\n                ('pca', PCA(n_components=150)),\\n                ('model', LogisticRegression(C=75, max_iter=1000, tol=0.1))])                                                                                                                                                                                                                                                 \n",
       "6  MLPClassifier(activation='identity', alpha=1e-10, hidden_layer_sizes=3,\\n              random_state=1, solver='lbfgs')                                                                                                                                                                                                                                                                                                                         \n",
       "7  Pipeline(steps=[('over', SMOTE(sampling_strategy='minority')),\\n                ('pca', PCA(n_components=80)),\\n                ('model',\\n                 MLPClassifier(alpha=3.162277660168379e-06,\\n                               hidden_layer_sizes=5, random_state=1,\\n                               solver='sgd'))])                                                                                                                  \n",
       "8  Pipeline(steps=[('over', SMOTE(sampling_strategy='minority')),\\n                ('model',\\n                 GradientBoostingClassifier(criterion='mse', learning_rate=0.2,\\n                                            loss='exponential',\\n                                            n_estimators=500,\\n                                            n_iter_no_change=20,\\n                                            random_state=1))])   \n",
       "\n",
       "   Recall Score  \n",
       "0  0.034177      \n",
       "1  0.691139      \n",
       "2  0.691139      \n",
       "3  0.685443      \n",
       "4  0.686076      \n",
       "5  0.682278      \n",
       "6  0.030380      \n",
       "7  0.595570      \n",
       "8  0.394937      "
      ]
     },
     "execution_count": 6,
     "metadata": {},
     "output_type": "execute_result"
    }
   ],
   "source": [
    "pd.read_csv('score_sheet.csv')"
   ]
  },
  {
   "cell_type": "code",
   "execution_count": 39,
   "metadata": {},
   "outputs": [],
   "source": [
    "# merged1.set_index('SK_ID_CURR',inplace=True)"
   ]
  },
  {
   "cell_type": "code",
   "execution_count": null,
   "metadata": {},
   "outputs": [],
   "source": []
  },
  {
   "cell_type": "code",
   "execution_count": 68,
   "metadata": {},
   "outputs": [],
   "source": [
    "# infinite values \n",
    "merged1=merged1.replace([np.inf, -np.inf], 0)"
   ]
  },
  {
   "cell_type": "code",
   "execution_count": 69,
   "metadata": {},
   "outputs": [],
   "source": [
    "# merged1.to_csv('merged1', index=False)"
   ]
  },
  {
   "cell_type": "code",
   "execution_count": 71,
   "metadata": {},
   "outputs": [
    {
     "name": "stderr",
     "output_type": "stream",
     "text": [
      "/Users/st/opt/anaconda3/lib/python3.7/site-packages/sklearn/model_selection/_split.py:297: FutureWarning: Setting a random_state has no effect since shuffle is False. This will raise an error in 0.24. You should leave random_state to its default (None), or set shuffle=True.\n",
      "  FutureWarning\n"
     ]
    }
   ],
   "source": [
    "data=merged1.copy()\n",
    "y=data['TARGET']\n",
    "data.drop(['TARGET'],inplace=True,axis=1)\n",
    "\n",
    "object_col=data.select_dtypes(include=['object']).columns\n",
    "col_not_obj=[col for col in data.columns if col not in object_col]\n",
    "\n",
    "X=pd.get_dummies(data,columns=object_col, drop_first=True)\n",
    "\n",
    "smote_obj_cols=[col for col in X.columns if col not in col_not_obj]\n",
    "\n",
    "\n",
    "\n",
    "X_train,X_test,y_train,y_test=train_test_split(X,y,stratify=y)\n",
    "\n",
    "scaler=StandardScaler()\n",
    "Xs_train=scaler.fit_transform(X_train)\n",
    "Xs_test=scaler.transform(X_test)\n",
    "\n",
    "kf = KFold(n_splits=5, random_state=42, shuffle=False)\n",
    "\n",
    "\n",
    "min_max_scaler = MinMaxScaler()\n",
    "X_train_minmax = min_max_scaler.fit_transform(X_train)\n",
    "\n",
    "X_test_minmax=min_max_scaler.transform(X_test)\n"
   ]
  },
  {
   "cell_type": "code",
   "execution_count": 38,
   "metadata": {},
   "outputs": [],
   "source": [
    "pca = PCA(n_components=20)\n",
    "pca.fit(X)"
   ]
  },
  {
   "cell_type": "code",
   "execution_count": 21,
   "metadata": {},
   "outputs": [],
   "source": []
  },
  {
   "cell_type": "code",
   "execution_count": 39,
   "metadata": {},
   "outputs": [
    {
     "name": "stdout",
     "output_type": "stream",
     "text": [
      "accuracy score 0.9148136212267698\n",
      "precision score 0.4716981132075472\n",
      "recall score 0.03164556962025317\n",
      "\n",
      "classification_report: \n",
      "              precision    recall  f1-score   support\n",
      "\n",
      "           0     0.9174    0.9967    0.9554     17038\n",
      "           1     0.4717    0.0316    0.0593      1580\n",
      "\n",
      "    accuracy                         0.9148     18618\n",
      "   macro avg     0.6945    0.5142    0.5073     18618\n",
      "weighted avg     0.8795    0.9148    0.8793     18618\n",
      "\n",
      "\n",
      "confusion_matrix\n",
      "[[   50  1530]\n",
      " [   56 16982]]\n"
     ]
    },
    {
     "name": "stderr",
     "output_type": "stream",
     "text": [
      "/Users/st/opt/anaconda3/lib/python3.7/site-packages/sklearn/linear_model/_logistic.py:762: ConvergenceWarning: lbfgs failed to converge (status=1):\n",
      "STOP: TOTAL NO. of ITERATIONS REACHED LIMIT.\n",
      "\n",
      "Increase the number of iterations (max_iter) or scale the data as shown in:\n",
      "    https://scikit-learn.org/stable/modules/preprocessing.html\n",
      "Please also refer to the documentation for alternative solver options:\n",
      "    https://scikit-learn.org/stable/modules/linear_model.html#logistic-regression\n",
      "  extra_warning_msg=_LOGISTIC_SOLVER_CONVERGENCE_MSG)\n"
     ]
    }
   ],
   "source": [
    "lr=LogisticRegression(solver='lbfgs')\n",
    "lr.fit(X_train_minmax,y_train)\n",
    "predictions = lr.predict(X_test_minmax)\n",
    "\n",
    "print('accuracy score', accuracy_score(y_test,predictions))\n",
    "print('precision score', precision_score(y_test,predictions))\n",
    "print('recall score', recall_score(y_test,predictions))\n",
    "print('\\nclassification_report: ')\n",
    "print(classification_report(y_test, predictions, digits=4))\n",
    "print('\\nconfusion_matrix')\n",
    "print(confusion_matrix(y_test, predictions, labels=[1, 0]))\n",
    "\n",
    "\n",
    "model_used=lr\n",
    "recall=recall_score(y_test,predictions)\n",
    "accuracy=accuracy_score(y_test,predictions)\n",
    "\n",
    "# score_model=[]\n",
    "# score_model=pd.DataFrame({'Model':model_used,'Accuracy Score': accuracy,'Recall Score':recall },index=[0])\n",
    "# score_model\n",
    "# # score_model.to_csv('score_sheet')"
   ]
  },
  {
   "cell_type": "code",
   "execution_count": 91,
   "metadata": {},
   "outputs": [],
   "source": [
    "# defininig a function to keep scores\n",
    "score_model = pd.read_csv('score_sheet')\n",
    "def add_score(model, model_name=score_model):\n",
    "    \n",
    "    p=pd.DataFrame({'Model':model_used,'Accuracy Score':accuracy,'Recall Score':recall, 'Precision Score':precision_score(y_test,predictions)},index=[len(model_name)])\n",
    "    \n",
    "    return pd.concat([score_model,p])\n"
   ]
  },
  {
   "cell_type": "markdown",
   "metadata": {},
   "source": [
    "# Using Adaboost"
   ]
  },
  {
   "cell_type": "code",
   "execution_count": null,
   "metadata": {},
   "outputs": [],
   "source": [
    "model = LogisticRegression(max_iter=1000, tol=0.1,class_weight=21.54434690031882) \n",
    "\n",
    "pca = PCA()\n",
    "\n",
    "over = SMOTE(sampling_strategy='minority')\n",
    "\n",
    "# under = RandomUnderSampler(sampling_strategy=0.5)\n",
    "\n",
    "steps = [('over', over), ('pca', pca), ('model', model)]\n",
    "\n",
    "pipeline = Pipeline(steps=steps),\n",
    "\n",
    "\n",
    "param_grid = {\n",
    "    'pca__n_components': [150],\n",
    "}\n",
    "# np.logspace(-4, 4, 4)\n",
    "\n",
    "# search = GridSearchCV(pipeline, param_grid)   \n",
    "\n",
    "base_estimator = DecisionTreeClassifier(max_depth=3)\n",
    "\n",
    "model = AdaBoostClassifier(base_estimator=base_estimator,\n",
    "                           n_estimators=100,\n",
    "                           random_state=1)\n",
    "model.fit(X_train, y_train)\n"
   ]
  },
  {
   "cell_type": "markdown",
   "metadata": {},
   "source": [
    "# - SMOTE due to class imbalance + logistic regression"
   ]
  },
  {
   "cell_type": "code",
   "execution_count": 141,
   "metadata": {},
   "outputs": [],
   "source": [
    "# Models=[RandomForestClassifier(), ]"
   ]
  },
  {
   "cell_type": "code",
   "execution_count": 135,
   "metadata": {},
   "outputs": [],
   "source": [
    "# grid search k value for SMOTE oversampling for imbalanced classification\n",
    "    \n",
    "model = LogisticRegression(max_iter=1000,C=)\n",
    "\n",
    "over = SMOTE(sampling_strategy='minority')\n",
    "\n",
    "# under = RandomUnderSampler(sampling_strategy=0.5)\n",
    "\n",
    "steps = [('over', over), ('model', model)]\n",
    "\n",
    "pipeline = Pipeline(steps=steps)\n",
    "\n",
    "# evaluate pipeline\n",
    "\n",
    "cv = RepeatedStratifiedKFold(n_splits=3, n_repeats=3, random_state=1)\n",
    "\n",
    "# scores = cross_val_score(pipeline, X_train_minmax, y_train, scoring='accuracy', cv=cv, n_jobs=-1)\n",
    "\n",
    "# score = mean(scores)\n",
    "\n",
    "# print(score)"
   ]
  },
  {
   "cell_type": "code",
   "execution_count": 137,
   "metadata": {},
   "outputs": [
    {
     "data": {
      "text/plain": [
       "Pipeline(steps=[('over', SMOTE(sampling_strategy='minority')),\n",
       "                ('model', LogisticRegression(max_iter=1000))])"
      ]
     },
     "execution_count": 137,
     "metadata": {},
     "output_type": "execute_result"
    }
   ],
   "source": [
    "pipeline.fit(X_train_minmax,y_train)"
   ]
  },
  {
   "cell_type": "code",
   "execution_count": null,
   "metadata": {},
   "outputs": [],
   "source": [
    "predictions = pipeline.predict(X_test_minmax)\n",
    "\n",
    "print('accuracy score', accuracy_score(y_test,predictions))\n",
    "print('precision score', precision_score(y_test,predictions))\n",
    "print('recall score', recall_score(y_test,predictions))\n",
    "print('\\nclassification_report: ')\n",
    "print(classification_report(y_test, predictions, digits=4))\n",
    "print('\\nconfusion_matrix')\n",
    "print(confusion_matrix(y_test, predictions, labels=[1, 0]))\n",
    "\n",
    "\n",
    "# model updation\n",
    "model_used=[pipeline.steps]\n",
    "recall=recall_score(y_test,predictions)\n",
    "accuracy=accuracy_score(y_test,predictions)\n",
    "\n",
    "score_model=add_score(model)\n",
    "score_model\n",
    "\n",
    "# score_model.to_csv('score_sheet')"
   ]
  },
  {
   "cell_type": "code",
   "execution_count": 131,
   "metadata": {},
   "outputs": [],
   "source": []
  },
  {
   "cell_type": "code",
   "execution_count": null,
   "metadata": {},
   "outputs": [],
   "source": []
  },
  {
   "cell_type": "code",
   "execution_count": null,
   "metadata": {},
   "outputs": [],
   "source": []
  },
  {
   "cell_type": "code",
   "execution_count": 68,
   "metadata": {},
   "outputs": [
    {
     "ename": "AttributeError",
     "evalue": "'LogisticRegression' object has no attribute 'coef_'",
     "output_type": "error",
     "traceback": [
      "\u001b[0;31m---------------------------------------------------------------------------\u001b[0m",
      "\u001b[0;31mAttributeError\u001b[0m                            Traceback (most recent call last)",
      "\u001b[0;32m<ipython-input-68-f991094476d6>\u001b[0m in \u001b[0;36m<module>\u001b[0;34m\u001b[0m\n\u001b[0;32m----> 1\u001b[0;31m \u001b[0mf\u001b[0m\u001b[0;34m=\u001b[0m\u001b[0mpd\u001b[0m\u001b[0;34m.\u001b[0m\u001b[0mDataFrame\u001b[0m\u001b[0;34m(\u001b[0m\u001b[0mmodel\u001b[0m\u001b[0;34m.\u001b[0m\u001b[0mcoef_\u001b[0m\u001b[0;34m,\u001b[0m \u001b[0mcolumns\u001b[0m\u001b[0;34m=\u001b[0m\u001b[0mX_train\u001b[0m\u001b[0;34m.\u001b[0m\u001b[0mcolumns\u001b[0m\u001b[0;34m)\u001b[0m\u001b[0;34m.\u001b[0m\u001b[0mT\u001b[0m\u001b[0;34m\u001b[0m\u001b[0;34m\u001b[0m\u001b[0m\n\u001b[0m\u001b[1;32m      2\u001b[0m \u001b[0mf\u001b[0m\u001b[0;34m.\u001b[0m\u001b[0msort_values\u001b[0m\u001b[0;34m(\u001b[0m\u001b[0mby\u001b[0m\u001b[0;34m=\u001b[0m\u001b[0;36m0\u001b[0m\u001b[0;34m)\u001b[0m\u001b[0;34m.\u001b[0m\u001b[0mplot\u001b[0m\u001b[0;34m(\u001b[0m\u001b[0mkind\u001b[0m\u001b[0;34m=\u001b[0m\u001b[0;34m'barh'\u001b[0m\u001b[0;34m,\u001b[0m\u001b[0mfigsize\u001b[0m\u001b[0;34m=\u001b[0m\u001b[0;34m(\u001b[0m\u001b[0;36m20\u001b[0m\u001b[0;34m,\u001b[0m\u001b[0;36m80\u001b[0m\u001b[0;34m)\u001b[0m\u001b[0;34m)\u001b[0m\u001b[0;34m;\u001b[0m\u001b[0;34m\u001b[0m\u001b[0;34m\u001b[0m\u001b[0m\n",
      "\u001b[0;31mAttributeError\u001b[0m: 'LogisticRegression' object has no attribute 'coef_'"
     ]
    }
   ],
   "source": [
    "f=pd.DataFrame(model.coef_, columns=X_train.columns).T\n",
    "f.sort_values(by=0).plot(kind='barh',figsize=(20,80));\n"
   ]
  },
  {
   "cell_type": "code",
   "execution_count": null,
   "metadata": {},
   "outputs": [],
   "source": []
  },
  {
   "cell_type": "markdown",
   "metadata": {},
   "source": [
    "# - Bagging with RandomForest classifier"
   ]
  },
  {
   "cell_type": "code",
   "execution_count": 161,
   "metadata": {},
   "outputs": [
    {
     "data": {
      "text/plain": [
       "RandomForestClassifier()"
      ]
     },
     "execution_count": 161,
     "metadata": {},
     "output_type": "execute_result"
    }
   ],
   "source": [
    "classifier = RandomForestClassifier()\n",
    "classifier.fit(X_train_minmax,y_train)"
   ]
  },
  {
   "cell_type": "code",
   "execution_count": 183,
   "metadata": {},
   "outputs": [],
   "source": [
    "Bag=BaggingClassifier(classifier,n_estimators=100,max_samples=1.0,max_features=0.8,random_state=1)"
   ]
  },
  {
   "cell_type": "code",
   "execution_count": 72,
   "metadata": {},
   "outputs": [],
   "source": [
    "# print(Bag.fit(X_train_minmax,y_train))\n",
    "# print(Bag.score(X_train_minmax,y_train))\n",
    "# print(Bag.score(X_test_minmax,y_test))"
   ]
  },
  {
   "cell_type": "code",
   "execution_count": null,
   "metadata": {},
   "outputs": [],
   "source": [
    "model = Bag\n",
    "\n",
    "over = SMOTE(sampling_strategy='minority')\n",
    "\n",
    "# under = RandomUnderSampler(sampling_strategy=0.5)\n",
    "\n",
    "steps = [('over', over), ('model', model)]\n",
    "\n",
    "pipeline = Pipeline(steps=steps)\n",
    "\n",
    "# evaluate pipeline\n",
    "\n",
    "cv = RepeatedStratifiedKFold(n_splits=3, n_repeats=3, random_state=1)\n"
   ]
  },
  {
   "cell_type": "code",
   "execution_count": null,
   "metadata": {},
   "outputs": [],
   "source": [
    "\n"
   ]
  },
  {
   "cell_type": "code",
   "execution_count": null,
   "metadata": {},
   "outputs": [],
   "source": []
  },
  {
   "cell_type": "code",
   "execution_count": null,
   "metadata": {},
   "outputs": [],
   "source": [
    "predictions = pipeline.predict(X_test_minmax)\n",
    "\n",
    "print('accuracy score', accuracy_score(y_test,predictions))\n",
    "print('precision score', precision_score(y_test,predictions))\n",
    "print('recall score', recall_score(y_test,predictions))\n",
    "print('\\nclassification_report: ')\n",
    "print(classification_report(y_test, predictions, digits=4))\n",
    "print('\\nconfusion_matrix')\n",
    "print(confusion_matrix(y_test, predictions, labels=[1, 0]))\n"
   ]
  },
  {
   "cell_type": "markdown",
   "metadata": {},
   "source": [
    "# - GridSearch CV"
   ]
  },
  {
   "cell_type": "code",
   "execution_count": 30,
   "metadata": {},
   "outputs": [],
   "source": [
    "# model = GridSearchCV(LogisticRegression(max_iter=10000, tol=0.1),\n",
    "#                      param_grid={'logisticregression__C': [0.1, 10.]},\n",
    "#                      cv=2, refit=True)\n",
    "\n",
    "model = LogisticRegression(max_iter=1000, tol=0.1,class_weight=) \n",
    "\n",
    "pca = PCA()\n",
    "\n",
    "over = SMOTE(sampling_strategy='minority')\n",
    "\n",
    "# under = RandomUnderSampler(sampling_strategy=0.5)\n",
    "\n",
    "steps = [('over', over), ('pca', pca), ('model', model)]\n",
    "\n",
    "pipeline = Pipeline(steps=steps),\n",
    "\n",
    "\n",
    "param_grid = {\n",
    "    'pca__n_components': [150],\n",
    "    'model__C': [75],\n",
    "}\n",
    "# np.logspace(-4, 4, 4)\n",
    "search = GridSearchCV(pipeline, param_grid)    \n",
    "    \n",
    "# evaluate pipeline\n",
    "\n",
    "# cv = RepeatedStratifiedKFold(n_splits=3, n_repeats=3, random_state=1)"
   ]
  },
  {
   "cell_type": "code",
   "execution_count": null,
   "metadata": {},
   "outputs": [],
   "source": []
  },
  {
   "cell_type": "code",
   "execution_count": 282,
   "metadata": {},
   "outputs": [
    {
     "data": {
      "text/plain": [
       "GridSearchCV(estimator=Pipeline(steps=[('over',\n",
       "                                        SMOTE(sampling_strategy='minority')),\n",
       "                                       ('pca', PCA()),\n",
       "                                       ('model',\n",
       "                                        LogisticRegression(max_iter=1000,\n",
       "                                                           tol=0.1))]),\n",
       "             param_grid={'model__C': [75], 'pca__n_components': [150]})"
      ]
     },
     "execution_count": 282,
     "metadata": {},
     "output_type": "execute_result"
    }
   ],
   "source": [
    "search.fit(X_train_minmax,y_train)"
   ]
  },
  {
   "cell_type": "code",
   "execution_count": 58,
   "metadata": {},
   "outputs": [
    {
     "name": "stdout",
     "output_type": "stream",
     "text": [
      "Best parameter (CV score=0.694):\n",
      "{'model__C': 60, 'pca__n_components': 120}\n"
     ]
    }
   ],
   "source": [
    "print(\"Best parameter (CV score=%0.3f):\" % search.best_score_)\n",
    "print(search.best_params_)"
   ]
  },
  {
   "cell_type": "code",
   "execution_count": 242,
   "metadata": {},
   "outputs": [
    {
     "ename": "NameError",
     "evalue": "name 'GridsearchCV' is not defined",
     "output_type": "error",
     "traceback": [
      "\u001b[0;31m---------------------------------------------------------------------------\u001b[0m",
      "\u001b[0;31mNameError\u001b[0m                                 Traceback (most recent call last)",
      "\u001b[0;32m<ipython-input-242-c0a68e45a485>\u001b[0m in \u001b[0;36m<module>\u001b[0;34m\u001b[0m\n\u001b[0;32m----> 1\u001b[0;31m \u001b[0mGridsearchCV\u001b[0m\u001b[0;34m.\u001b[0m\u001b[0mbest_estimator_\u001b[0m\u001b[0;34m\u001b[0m\u001b[0;34m\u001b[0m\u001b[0m\n\u001b[0m",
      "\u001b[0;31mNameError\u001b[0m: name 'GridsearchCV' is not defined"
     ]
    }
   ],
   "source": [
    "# score_model=[]\n",
    "# score_model=pd.DataFrame({'Model':model_used,'Accuracy Score': accuracy,'Recall Score':recall },index=[0])\n",
    "# score_model\n",
    "# score_model.to_csv('score_sheet')"
   ]
  },
  {
   "cell_type": "code",
   "execution_count": 284,
   "metadata": {},
   "outputs": [
    {
     "name": "stdout",
     "output_type": "stream",
     "text": [
      "accuracy score 0.7111934686862177\n",
      "precision score 0.18108516714261716\n",
      "recall score 0.6822784810126582\n",
      "\n",
      "classification_report: \n",
      "              precision    recall  f1-score   support\n",
      "\n",
      "           0     0.9604    0.7139    0.8190     17038\n",
      "           1     0.1811    0.6823    0.2862      1580\n",
      "\n",
      "    accuracy                         0.7112     18618\n",
      "   macro avg     0.5707    0.6981    0.5526     18618\n",
      "weighted avg     0.8942    0.7112    0.7738     18618\n",
      "\n",
      "\n",
      "confusion_matrix\n",
      "[[ 1078   502]\n",
      " [ 4875 12163]]\n"
     ]
    }
   ],
   "source": [
    "predictions = search.predict(X_test_minmax)\n",
    "\n",
    "print('accuracy score', accuracy_score(y_test,predictions))\n",
    "print('precision score', precision_score(y_test,predictions))\n",
    "print('recall score', recall_score(y_test,predictions))\n",
    "print('\\nclassification_report: ')\n",
    "print(classification_report(y_test, predictions, digits=4))\n",
    "print('\\nconfusion_matrix')\n",
    "print(confusion_matrix(y_test, predictions, labels=[1, 0]))\n",
    "\n",
    "model_used=[search.best_estimator_]\n",
    "recall=recall_score(y_test,predictions)\n",
    "accuracy=accuracy_score(y_test,predictions)\n",
    "\n",
    "score_model=add_score(model)\n",
    "score_model\n",
    "\n",
    "# score_model.to_csv('score_sheet')"
   ]
  },
  {
   "cell_type": "code",
   "execution_count": 294,
   "metadata": {},
   "outputs": [
    {
     "data": {
      "image/png": "[encoded data removed]",
      "text/plain": [
       "<Figure size 720x720 with 2 Axes>"
      ]
     },
     "metadata": {
      "image/png": {
       "height": 561,
       "width": 575
      },
      "needs_background": "light"
     },
     "output_type": "display_data"
    }
   ],
   "source": [
    "# Plot the PCA spectrum\n",
    "pca.fit(X_train_minmax)\n",
    "\n",
    "fig, (ax0, ax1) = plt.subplots(nrows=2, sharex=True, figsize=(10, 10))\n",
    "ax0.plot(np.arange(1, pca.n_components_ + 1),\n",
    "         pca.explained_variance_ratio_, '+', linewidth=2)\n",
    "ax0.set_ylabel('PCA explained variance ratio')\n",
    "\n",
    "ax0.axvline(search.best_estimator_.named_steps['pca'].n_components,\n",
    "            linestyle=':', label='n_components chosen')\n",
    "ax0.legend(prop=dict(size=12));"
   ]
  },
  {
   "cell_type": "code",
   "execution_count": 293,
   "metadata": {},
   "outputs": [
    {
     "data": {
      "text/plain": [
       "361"
      ]
     },
     "execution_count": 293,
     "metadata": {},
     "output_type": "execute_result"
    }
   ],
   "source": [
    "pca.n_components_"
   ]
  },
  {
   "cell_type": "code",
   "execution_count": 271,
   "metadata": {},
   "outputs": [
    {
     "data": {
      "text/plain": [
       "array([1.00000000e-04, 4.64158883e-02, 2.15443469e+01, 1.00000000e+04])"
      ]
     },
     "execution_count": 271,
     "metadata": {},
     "output_type": "execute_result"
    }
   ],
   "source": [
    "np.logspace(-4, 4, 4)"
   ]
  },
  {
   "cell_type": "code",
   "execution_count": 73,
   "metadata": {},
   "outputs": [],
   "source": [
    "# score_model.drop(score_model.index[[5,6]],inplace=True)\n",
    "# score_model=add_score(model)\n",
    "# score_model"
   ]
  },
  {
   "cell_type": "code",
   "execution_count": null,
   "metadata": {},
   "outputs": [],
   "source": [
    "\n",
    "            "
   ]
  },
  {
   "cell_type": "markdown",
   "metadata": {},
   "source": [
    "# Trying SMOTENC since there are many categorical features#"
   ]
  },
  {
   "cell_type": "code",
   "execution_count": 74,
   "metadata": {},
   "outputs": [
    {
     "name": "stderr",
     "output_type": "stream",
     "text": [
      "/Users/st/opt/anaconda3/lib/python3.7/site-packages/sklearn/model_selection/_split.py:297: FutureWarning: Setting a random_state has no effect since shuffle is False. This will raise an error in 0.24. You should leave random_state to its default (None), or set shuffle=True.\n",
      "  FutureWarning\n"
     ]
    }
   ],
   "source": [
    "# # model updation\n",
    "# model_used=[pipeline.steps]\n",
    "# recall=recall_score(y_test,predictions)\n",
    "# accuracy=accuracy_score(y_test,predictions)\n",
    "\n",
    "# score_model=add_score(model)\n",
    "\n",
    "data=merged1.copy()\n",
    "y=data['TARGET']\n",
    "data.drop(['TARGET'],inplace=True,axis=1)\n",
    "\n",
    "object_col=data.select_dtypes(include=['object']).columns\n",
    "col_not_obj=[col for col in data.columns if col not in object_col]\n",
    "\n",
    "X=pd.get_dummies(data,columns=object_col, drop_first=True)\n",
    "\n",
    "# object features which will be dummified  \n",
    "smote_obj_cols=[col for col in X.columns if col not in col_not_obj]\n",
    "\n",
    "# cat_col indicates the already dummified (before merging) and hence categorical features \n",
    "cat_col=[col for col in data.columns if 'cat'  in col]\n",
    "\n",
    "smote_cols=cat_col+smote_obj_cols\n",
    "\n",
    "X_train,X_test,y_train,y_test=train_test_split(X,y,stratify=y)\n",
    "\n",
    "scaler=StandardScaler()\n",
    "Xs_train=scaler.fit_transform(X_train)\n",
    "Xs_test=scaler.transform(X_test)\n",
    "\n",
    "kf = KFold(n_splits=5, random_state=42, shuffle=False)\n",
    "\n",
    "\n",
    "min_max_scaler = MinMaxScaler()\n",
    "X_train_minmax = min_max_scaler.fit_transform(X_train)\n",
    "\n",
    "X_test_minmax=min_max_scaler.transform(X_test)\n",
    "\n"
   ]
  },
  {
   "cell_type": "code",
   "execution_count": 75,
   "metadata": {},
   "outputs": [],
   "source": [
    "# coe=search.best_estimator_.named_steps['model'].coef_\n",
    "\n",
    "# f=pd.DataFrame(coe, columns=X_train.columns).T\n",
    "# f.sort_values(by=0).plot(kind='barh',figsize=(20,80));"
   ]
  },
  {
   "cell_type": "code",
   "execution_count": 78,
   "metadata": {},
   "outputs": [
    {
     "data": {
      "text/plain": [
       "(55854, 70)"
      ]
     },
     "execution_count": 78,
     "metadata": {},
     "output_type": "execute_result"
    }
   ],
   "source": [
    "pca = PCA(n_components = 70)\n",
    "pca.fit(X_train_minmax)\n",
    "X_train_pca = pca.transform(X_train_minmax)\n",
    "X_test_pca = pca.transform(X_test_minmax)\n",
    "X_train_pca.shape"
   ]
  },
  {
   "cell_type": "code",
   "execution_count": 77,
   "metadata": {},
   "outputs": [],
   "source": [
    "\n",
    "\n",
    "obj=[X.columns.get_loc(col) for col in smote_cols]\n",
    "\n",
    "\n",
    "model = GradientBoostingClassifier(\n",
    "    n_estimators=500,\n",
    "    n_iter_no_change=20,\n",
    "    criterion='mse',\n",
    "    loss='exponential',\n",
    "    max_depth=3,\n",
    "    learning_rate=0.2,\n",
    "    random_state=1)\n",
    "\n",
    "\n",
    "over = SMOTENC(obj,sampling_strategy='minority',random_state=42)\n",
    "\n",
    "# under = RandomUnderSampler(sampling_strategy=0.5)\n",
    "\n",
    "steps = [('over', over), ('model', model)]\n",
    "\n",
    "pipeline = Pipeline(steps=steps)\n",
    "\n",
    "param_grid = {}\n",
    "# np.logspace(-4, 4, 4)\n",
    "\n",
    "search = GridSearchCV(pipeline, param_grid,scoring='recall')  \n",
    "\n",
    "# cv = RepeatedStratifiedKFold(n_splits=10, n_repeats=3, random_state=1)\n"
   ]
  },
  {
   "cell_type": "code",
   "execution_count": null,
   "metadata": {},
   "outputs": [],
   "source": [
    "search.fit(X_train_minmax,y_train)"
   ]
  },
  {
   "cell_type": "code",
   "execution_count": 93,
   "metadata": {},
   "outputs": [
    {
     "name": "stdout",
     "output_type": "stream",
     "text": [
      "accuracy score 0.7148995595660114\n",
      "precision score 0.17983510821023704\n",
      "recall score 0.6626582278481012\n",
      "\n",
      "classification_report: \n",
      "              precision    recall  f1-score   support\n",
      "\n",
      "           0     0.9583    0.7197    0.8221     17038\n",
      "           1     0.1798    0.6627    0.2829      1580\n",
      "\n",
      "    accuracy                         0.7149     18618\n",
      "   macro avg     0.5691    0.6912    0.5525     18618\n",
      "weighted avg     0.8923    0.7149    0.7763     18618\n",
      "\n",
      "\n",
      "confusion_matrix\n",
      "[[ 1047   533]\n",
      " [ 4775 12263]]\n"
     ]
    },
    {
     "data": {
      "text/plain": [
       "{'over': SMOTE(sampling_strategy='minority'),\n",
       " 'pca': PCA(),\n",
       " 'model': LogisticRegression(max_iter=1000, tol=0.1)}"
      ]
     },
     "execution_count": 93,
     "metadata": {},
     "output_type": "execute_result"
    }
   ],
   "source": [
    "predictions = search.predict(X_test_minmax)\n",
    "\n",
    "print('accuracy score', accuracy_score(y_test,predictions))\n",
    "print('precision score', precision_score(y_test,predictions))\n",
    "print('recall score', recall_score(y_test,predictions))\n",
    "print('\\nclassification_report: ')\n",
    "print(classification_report(y_test, predictions, digits=4))\n",
    "print('\\nconfusion_matrix')\n",
    "print(confusion_matrix(y_test, predictions, labels=[1, 0]))\n",
    "pipeline.named_steps\n",
    "\n",
    "# model_used=[search.best_estimator_]\n",
    "# recall=recall_score(y_test,predictions)\n",
    "# accuracy=accuracy_score(y_test,predictions)\n",
    "\n",
    "# score_model=add_score(model)\n",
    "# score_model\n",
    "\n",
    "# # score_model.to_csv('score_sheet')"
   ]
  },
  {
   "cell_type": "code",
   "execution_count": null,
   "metadata": {},
   "outputs": [],
   "source": [
    "from sklearn.metrics import roc_curve, auc, precision_recall_curve, average_precision_score\n",
    "fpr, tpr, threshold = roc_curve(y_test, search.predict_proba(X_test_minmax))\n",
    "roc_auc = auc(fpr, tpr)\n",
    "\n",
    "# Plot of a ROC curve for class 1\n",
    "plt.figure(figsize=[6, 6])\n",
    "plt.plot(fpr, tpr, label='ROC curve (area = %0.2f)' % roc_auc, linewidth=4)\n",
    "plt.plot([0, 1], [0, 1], 'k--', linewidth=4)\n",
    "plt.xlim([-0.05, 1.0])\n",
    "plt.ylim([-0.05, 1.05])\n",
    "plt.xlabel('False Positive Rate', fontsize=18)\n",
    "plt.ylabel('True Positive Rate', fontsize=18)\n",
    "plt.title('ROC curve', fontsize=18)\n",
    "plt.legend(loc=\"lower right\")\n",
    "plt.show()"
   ]
  },
  {
   "cell_type": "code",
   "execution_count": 178,
   "metadata": {},
   "outputs": [],
   "source": [
    "# pd.DataFrame(classifier.feature_importances_,X_train.columns).sort_values(by=0,ascending=False)"
   ]
  },
  {
   "cell_type": "code",
   "execution_count": 66,
   "metadata": {},
   "outputs": [],
   "source": [
    "# score_model=add_score(score_model,model_used,recall,accuracy)"
   ]
  },
  {
   "cell_type": "code",
   "execution_count": null,
   "metadata": {},
   "outputs": [],
   "source": [
    "score_model\n"
   ]
  },
  {
   "cell_type": "code",
   "execution_count": null,
   "metadata": {},
   "outputs": [],
   "source": []
  },
  {
   "cell_type": "code",
   "execution_count": null,
   "metadata": {},
   "outputs": [],
   "source": [
    "# score_model=add_score(model_used,recall,accuracy)\n",
    "score_model"
   ]
  },
  {
   "cell_type": "code",
   "execution_count": 86,
   "metadata": {},
   "outputs": [
    {
     "ename": "IndexError",
     "evalue": "positional indexers are out-of-bounds",
     "output_type": "error",
     "traceback": [
      "\u001b[0;31m---------------------------------------------------------------------------\u001b[0m",
      "\u001b[0;31mIndexError\u001b[0m                                Traceback (most recent call last)",
      "\u001b[0;32m~/opt/anaconda3/lib/python3.7/site-packages/pandas/core/indexing.py\u001b[0m in \u001b[0;36m_get_list_axis\u001b[0;34m(self, key, axis)\u001b[0m\n\u001b[1;32m   2129\u001b[0m         \u001b[0;32mtry\u001b[0m\u001b[0;34m:\u001b[0m\u001b[0;34m\u001b[0m\u001b[0;34m\u001b[0m\u001b[0m\n\u001b[0;32m-> 2130\u001b[0;31m             \u001b[0;32mreturn\u001b[0m \u001b[0mself\u001b[0m\u001b[0;34m.\u001b[0m\u001b[0mobj\u001b[0m\u001b[0;34m.\u001b[0m\u001b[0mtake\u001b[0m\u001b[0;34m(\u001b[0m\u001b[0mkey\u001b[0m\u001b[0;34m,\u001b[0m \u001b[0maxis\u001b[0m\u001b[0;34m=\u001b[0m\u001b[0maxis\u001b[0m\u001b[0;34m)\u001b[0m\u001b[0;34m\u001b[0m\u001b[0;34m\u001b[0m\u001b[0m\n\u001b[0m\u001b[1;32m   2131\u001b[0m         \u001b[0;32mexcept\u001b[0m \u001b[0mIndexError\u001b[0m\u001b[0;34m:\u001b[0m\u001b[0;34m\u001b[0m\u001b[0;34m\u001b[0m\u001b[0m\n",
      "\u001b[0;32m~/opt/anaconda3/lib/python3.7/site-packages/pandas/core/generic.py\u001b[0m in \u001b[0;36mtake\u001b[0;34m(self, indices, axis, is_copy, **kwargs)\u001b[0m\n\u001b[1;32m   3603\u001b[0m         new_data = self._data.take(\n\u001b[0;32m-> 3604\u001b[0;31m             \u001b[0mindices\u001b[0m\u001b[0;34m,\u001b[0m \u001b[0maxis\u001b[0m\u001b[0;34m=\u001b[0m\u001b[0mself\u001b[0m\u001b[0;34m.\u001b[0m\u001b[0m_get_block_manager_axis\u001b[0m\u001b[0;34m(\u001b[0m\u001b[0maxis\u001b[0m\u001b[0;34m)\u001b[0m\u001b[0;34m,\u001b[0m \u001b[0mverify\u001b[0m\u001b[0;34m=\u001b[0m\u001b[0;32mTrue\u001b[0m\u001b[0;34m\u001b[0m\u001b[0;34m\u001b[0m\u001b[0m\n\u001b[0m\u001b[1;32m   3605\u001b[0m         )\n",
      "\u001b[0;32m~/opt/anaconda3/lib/python3.7/site-packages/pandas/core/internals/managers.py\u001b[0m in \u001b[0;36mtake\u001b[0;34m(self, indexer, axis, verify, convert)\u001b[0m\n\u001b[1;32m   1388\u001b[0m         \u001b[0;32mif\u001b[0m \u001b[0mconvert\u001b[0m\u001b[0;34m:\u001b[0m\u001b[0;34m\u001b[0m\u001b[0;34m\u001b[0m\u001b[0m\n\u001b[0;32m-> 1389\u001b[0;31m             \u001b[0mindexer\u001b[0m \u001b[0;34m=\u001b[0m \u001b[0mmaybe_convert_indices\u001b[0m\u001b[0;34m(\u001b[0m\u001b[0mindexer\u001b[0m\u001b[0;34m,\u001b[0m \u001b[0mn\u001b[0m\u001b[0;34m)\u001b[0m\u001b[0;34m\u001b[0m\u001b[0;34m\u001b[0m\u001b[0m\n\u001b[0m\u001b[1;32m   1390\u001b[0m \u001b[0;34m\u001b[0m\u001b[0m\n",
      "\u001b[0;32m~/opt/anaconda3/lib/python3.7/site-packages/pandas/core/indexers.py\u001b[0m in \u001b[0;36mmaybe_convert_indices\u001b[0;34m(indices, n)\u001b[0m\n\u001b[1;32m    200\u001b[0m     \u001b[0;32mif\u001b[0m \u001b[0mmask\u001b[0m\u001b[0;34m.\u001b[0m\u001b[0many\u001b[0m\u001b[0;34m(\u001b[0m\u001b[0;34m)\u001b[0m\u001b[0;34m:\u001b[0m\u001b[0;34m\u001b[0m\u001b[0;34m\u001b[0m\u001b[0m\n\u001b[0;32m--> 201\u001b[0;31m         \u001b[0;32mraise\u001b[0m \u001b[0mIndexError\u001b[0m\u001b[0;34m(\u001b[0m\u001b[0;34m\"indices are out-of-bounds\"\u001b[0m\u001b[0;34m)\u001b[0m\u001b[0;34m\u001b[0m\u001b[0;34m\u001b[0m\u001b[0m\n\u001b[0m\u001b[1;32m    202\u001b[0m     \u001b[0;32mreturn\u001b[0m \u001b[0mindices\u001b[0m\u001b[0;34m\u001b[0m\u001b[0;34m\u001b[0m\u001b[0m\n",
      "\u001b[0;31mIndexError\u001b[0m: indices are out-of-bounds",
      "\nDuring handling of the above exception, another exception occurred:\n",
      "\u001b[0;31mIndexError\u001b[0m                                Traceback (most recent call last)",
      "\u001b[0;32m<ipython-input-86-c8da560bd96c>\u001b[0m in \u001b[0;36m<module>\u001b[0;34m\u001b[0m\n\u001b[1;32m     27\u001b[0m \u001b[0;32mfor\u001b[0m \u001b[0mtrain_fold_index\u001b[0m\u001b[0;34m,\u001b[0m \u001b[0mval_fold_index\u001b[0m \u001b[0;32min\u001b[0m \u001b[0mcv\u001b[0m\u001b[0;34m.\u001b[0m\u001b[0msplit\u001b[0m\u001b[0;34m(\u001b[0m\u001b[0mX\u001b[0m\u001b[0;34m,\u001b[0m \u001b[0my\u001b[0m\u001b[0;34m)\u001b[0m\u001b[0;34m:\u001b[0m\u001b[0;34m\u001b[0m\u001b[0;34m\u001b[0m\u001b[0m\n\u001b[1;32m     28\u001b[0m \u001b[0;31m# Get the training data\u001b[0m\u001b[0;34m\u001b[0m\u001b[0;34m\u001b[0m\u001b[0;34m\u001b[0m\u001b[0m\n\u001b[0;32m---> 29\u001b[0;31m     \u001b[0mX_train_fold\u001b[0m\u001b[0;34m,\u001b[0m \u001b[0my_train_fold\u001b[0m \u001b[0;34m=\u001b[0m \u001b[0mX_train\u001b[0m\u001b[0;34m.\u001b[0m\u001b[0miloc\u001b[0m\u001b[0;34m[\u001b[0m\u001b[0mtrain_fold_index\u001b[0m\u001b[0;34m]\u001b[0m\u001b[0;34m,\u001b[0m \u001b[0my_train\u001b[0m\u001b[0;34m[\u001b[0m\u001b[0mtrain_fold_index\u001b[0m\u001b[0;34m]\u001b[0m\u001b[0;34m\u001b[0m\u001b[0;34m\u001b[0m\u001b[0m\n\u001b[0m\u001b[1;32m     30\u001b[0m     \u001b[0;31m# Get the validation data\u001b[0m\u001b[0;34m\u001b[0m\u001b[0;34m\u001b[0m\u001b[0;34m\u001b[0m\u001b[0m\n\u001b[1;32m     31\u001b[0m     \u001b[0mX_val_fold\u001b[0m\u001b[0;34m,\u001b[0m \u001b[0my_val_fold\u001b[0m \u001b[0;34m=\u001b[0m \u001b[0mX_train\u001b[0m\u001b[0;34m.\u001b[0m\u001b[0miloc\u001b[0m\u001b[0;34m[\u001b[0m\u001b[0mval_fold_index\u001b[0m\u001b[0;34m]\u001b[0m\u001b[0;34m,\u001b[0m \u001b[0my_train\u001b[0m\u001b[0;34m[\u001b[0m\u001b[0mval_fold_index\u001b[0m\u001b[0;34m]\u001b[0m\u001b[0;34m\u001b[0m\u001b[0;34m\u001b[0m\u001b[0m\n",
      "\u001b[0;32m~/opt/anaconda3/lib/python3.7/site-packages/pandas/core/indexing.py\u001b[0m in \u001b[0;36m__getitem__\u001b[0;34m(self, key)\u001b[0m\n\u001b[1;32m   1422\u001b[0m \u001b[0;34m\u001b[0m\u001b[0m\n\u001b[1;32m   1423\u001b[0m             \u001b[0mmaybe_callable\u001b[0m \u001b[0;34m=\u001b[0m \u001b[0mcom\u001b[0m\u001b[0;34m.\u001b[0m\u001b[0mapply_if_callable\u001b[0m\u001b[0;34m(\u001b[0m\u001b[0mkey\u001b[0m\u001b[0;34m,\u001b[0m \u001b[0mself\u001b[0m\u001b[0;34m.\u001b[0m\u001b[0mobj\u001b[0m\u001b[0;34m)\u001b[0m\u001b[0;34m\u001b[0m\u001b[0;34m\u001b[0m\u001b[0m\n\u001b[0;32m-> 1424\u001b[0;31m             \u001b[0;32mreturn\u001b[0m \u001b[0mself\u001b[0m\u001b[0;34m.\u001b[0m\u001b[0m_getitem_axis\u001b[0m\u001b[0;34m(\u001b[0m\u001b[0mmaybe_callable\u001b[0m\u001b[0;34m,\u001b[0m \u001b[0maxis\u001b[0m\u001b[0;34m=\u001b[0m\u001b[0maxis\u001b[0m\u001b[0;34m)\u001b[0m\u001b[0;34m\u001b[0m\u001b[0;34m\u001b[0m\u001b[0m\n\u001b[0m\u001b[1;32m   1425\u001b[0m \u001b[0;34m\u001b[0m\u001b[0m\n\u001b[1;32m   1426\u001b[0m     \u001b[0;32mdef\u001b[0m \u001b[0m_is_scalar_access\u001b[0m\u001b[0;34m(\u001b[0m\u001b[0mself\u001b[0m\u001b[0;34m,\u001b[0m \u001b[0mkey\u001b[0m\u001b[0;34m:\u001b[0m \u001b[0mTuple\u001b[0m\u001b[0;34m)\u001b[0m\u001b[0;34m:\u001b[0m\u001b[0;34m\u001b[0m\u001b[0;34m\u001b[0m\u001b[0m\n",
      "\u001b[0;32m~/opt/anaconda3/lib/python3.7/site-packages/pandas/core/indexing.py\u001b[0m in \u001b[0;36m_getitem_axis\u001b[0;34m(self, key, axis)\u001b[0m\n\u001b[1;32m   2146\u001b[0m         \u001b[0;31m# a list of integers\u001b[0m\u001b[0;34m\u001b[0m\u001b[0;34m\u001b[0m\u001b[0;34m\u001b[0m\u001b[0m\n\u001b[1;32m   2147\u001b[0m         \u001b[0;32melif\u001b[0m \u001b[0mis_list_like_indexer\u001b[0m\u001b[0;34m(\u001b[0m\u001b[0mkey\u001b[0m\u001b[0;34m)\u001b[0m\u001b[0;34m:\u001b[0m\u001b[0;34m\u001b[0m\u001b[0;34m\u001b[0m\u001b[0m\n\u001b[0;32m-> 2148\u001b[0;31m             \u001b[0;32mreturn\u001b[0m \u001b[0mself\u001b[0m\u001b[0;34m.\u001b[0m\u001b[0m_get_list_axis\u001b[0m\u001b[0;34m(\u001b[0m\u001b[0mkey\u001b[0m\u001b[0;34m,\u001b[0m \u001b[0maxis\u001b[0m\u001b[0;34m=\u001b[0m\u001b[0maxis\u001b[0m\u001b[0;34m)\u001b[0m\u001b[0;34m\u001b[0m\u001b[0;34m\u001b[0m\u001b[0m\n\u001b[0m\u001b[1;32m   2149\u001b[0m \u001b[0;34m\u001b[0m\u001b[0m\n\u001b[1;32m   2150\u001b[0m         \u001b[0;31m# a single integer\u001b[0m\u001b[0;34m\u001b[0m\u001b[0;34m\u001b[0m\u001b[0;34m\u001b[0m\u001b[0m\n",
      "\u001b[0;32m~/opt/anaconda3/lib/python3.7/site-packages/pandas/core/indexing.py\u001b[0m in \u001b[0;36m_get_list_axis\u001b[0;34m(self, key, axis)\u001b[0m\n\u001b[1;32m   2131\u001b[0m         \u001b[0;32mexcept\u001b[0m \u001b[0mIndexError\u001b[0m\u001b[0;34m:\u001b[0m\u001b[0;34m\u001b[0m\u001b[0;34m\u001b[0m\u001b[0m\n\u001b[1;32m   2132\u001b[0m             \u001b[0;31m# re-raise with different error message\u001b[0m\u001b[0;34m\u001b[0m\u001b[0;34m\u001b[0m\u001b[0;34m\u001b[0m\u001b[0m\n\u001b[0;32m-> 2133\u001b[0;31m             \u001b[0;32mraise\u001b[0m \u001b[0mIndexError\u001b[0m\u001b[0;34m(\u001b[0m\u001b[0;34m\"positional indexers are out-of-bounds\"\u001b[0m\u001b[0;34m)\u001b[0m\u001b[0;34m\u001b[0m\u001b[0;34m\u001b[0m\u001b[0m\n\u001b[0m\u001b[1;32m   2134\u001b[0m \u001b[0;34m\u001b[0m\u001b[0m\n\u001b[1;32m   2135\u001b[0m     \u001b[0;32mdef\u001b[0m \u001b[0m_getitem_axis\u001b[0m\u001b[0;34m(\u001b[0m\u001b[0mself\u001b[0m\u001b[0;34m,\u001b[0m \u001b[0mkey\u001b[0m\u001b[0;34m,\u001b[0m \u001b[0maxis\u001b[0m\u001b[0;34m:\u001b[0m \u001b[0mint\u001b[0m\u001b[0;34m)\u001b[0m\u001b[0;34m:\u001b[0m\u001b[0;34m\u001b[0m\u001b[0;34m\u001b[0m\u001b[0m\n",
      "\u001b[0;31mIndexError\u001b[0m: positional indexers are out-of-bounds"
     ]
    }
   ],
   "source": [
    "example_params = {\n",
    "        'n_estimators': 100,\n",
    "        'max_depth': 5,\n",
    "        'random_state': 13\n",
    "    }\n",
    "\n",
    "\n",
    "# X=pd.get_dummies(data=merged1.copy(),columns=object_col,drop_first=True)\n",
    "\n",
    "# c=X.columns    \n",
    "# object_col=[]\n",
    "# object_col = [c[i] for i in range(len(c)) if X.dtypes[i]=='object']\n",
    "\n",
    "# # X_train,X_test,y_train,y_test=train_test_split(X,y)\n",
    "    \n",
    "    \n",
    "cv = KFold(n_splits=5, random_state=42,shuffle=True)\n",
    "\n",
    "# obj_df = X.select_dtypes(include=['uint8']).columns\n",
    "\n",
    "smoter = SMOTENC(smote_obj_cols,random_state=42)\n",
    "\n",
    "scores = []\n",
    "\n",
    "for train_fold_index, val_fold_index in cv.split(X, y):\n",
    "# Get the training data\n",
    "    X_train_fold, y_train_fold = X_train.iloc[train_fold_index], y_train[train_fold_index]\n",
    "    # Get the validation data\n",
    "    X_val_fold, y_val_fold = X_train.iloc[val_fold_index], y_train[val_fold_index]\n",
    "\n",
    "# Upsample only the data in the training section\n",
    "X_train_fold_upsample, y_train_fold_upsample = smoter.fit_resample(X_train_fold,y_train_fold)\n",
    "# Fit the model on the upsampled training data\n",
    "model_obj = LogisticRegression(solver='lbfgs').fit(X_train_fold_upsample, y_train_fold_upsample)\n",
    "\n",
    "# Score the model on the (non-upsampled) validation data\n",
    "score = recall_score(y_val_fold, model_obj.predict(X_val_fold))\n",
    "scores.append(score)\n",
    "\n",
    "z=np.array(scores)\n",
    "print(z)\n",
    "\n",
    "# Example of the model in action\n",
    "# score_model(merged1, RandomForestClassifier, example_params, cv=kf)\n",
    "# score_model(LogisticRegression,)\n"
   ]
  },
  {
   "cell_type": "code",
   "execution_count": 96,
   "metadata": {},
   "outputs": [
    {
     "name": "stdout",
     "output_type": "stream",
     "text": [
      "Logistic regression test score 0.914416548239381\n",
      "Baseline accuracy: 0.919\n",
      "accuracy score 0.914416548239381\n",
      "precision score 0.46846846846846846\n",
      "recall score 0.03211859172328598\n",
      "\n",
      "classification_report: \n",
      "              precision    recall  f1-score   support\n",
      "\n",
      "           0     0.9170    0.9966    0.9552     17380\n",
      "           1     0.4685    0.0321    0.0601      1619\n",
      "\n",
      "    accuracy                         0.9144     18999\n",
      "   macro avg     0.6928    0.5144    0.5076     18999\n",
      "weighted avg     0.8788    0.9144    0.8789     18999\n",
      "\n",
      "\n",
      "confusion_matrix\n",
      "[[   52  1567]\n",
      " [   59 17321]]\n"
     ]
    },
    {
     "name": "stderr",
     "output_type": "stream",
     "text": [
      "/Users/st/opt/anaconda3/lib/python3.7/site-packages/sklearn/linear_model/_logistic.py:762: ConvergenceWarning: lbfgs failed to converge (status=1):\n",
      "STOP: TOTAL NO. of ITERATIONS REACHED LIMIT.\n",
      "\n",
      "Increase the number of iterations (max_iter) or scale the data as shown in:\n",
      "    https://scikit-learn.org/stable/modules/preprocessing.html\n",
      "Please also refer to the documentation for alternative solver options:\n",
      "    https://scikit-learn.org/stable/modules/linear_model.html#logistic-regression\n",
      "  extra_warning_msg=_LOGISTIC_SOLVER_CONVERGENCE_MSG)\n"
     ]
    }
   ],
   "source": [
    "lr=LogisticRegression(solver='lbfgs')\n",
    "lr.fit(Xs_train,y_train)\n",
    "\n",
    "print('Logistic regression test score', lr.score(Xs_test,y_test))\n",
    "# print('cross val score',cross_val_score(lr,X_train,y_train,cv=5).mean())\n",
    "print('Baseline accuracy: 0.919')\n",
    "\n",
    "predictions = lr.predict(Xs_test)\n",
    "\n",
    "\n",
    "print('accuracy score', accuracy_score(y_test,predictions))\n",
    "print('precision score', precision_score(y_test,predictions))\n",
    "print('recall score', recall_score(y_test,predictions))\n",
    "print('\\nclassification_report: ')\n",
    "print(classification_report(y_test, predictions, digits=4))\n",
    "print('\\nconfusion_matrix')\n",
    "print(confusion_matrix(y_test, predictions, labels=[1, 0]))"
   ]
  },
  {
   "cell_type": "code",
   "execution_count": null,
   "metadata": {},
   "outputs": [],
   "source": [
    "lr=LogisticRegression(solver='lbfgs')\n",
    "lr.fit(Xs_train,y_train)\n",
    "\n",
    "print('Logistic regression test score', lr.score(Xs_test,y_test))\n",
    "# print('cross val score',cross_val_score(lr,X_train,y_train,cv=5).mean())\n",
    "print('Baseline accuracy: 0.919')\n",
    "\n",
    "predictions = lr.predict(Xs_test)\n",
    "\n",
    "print('accuracy score', accuracy_score(y_test,predictions))\n",
    "print('precision score', precision_score(y_test,predictions))\n",
    "print('recall score', recall_score(y_test,predictions))\n",
    "print('\\nclassification_report: ')\n",
    "print(classification_report(y_test, predictions, digits=4))\n",
    "print('\\nconfusion_matrix')\n",
    "print(confusion_matrix(y_test, predictions, labels=[1, 0]))"
   ]
  },
  {
   "cell_type": "code",
   "execution_count": null,
   "metadata": {},
   "outputs": [],
   "source": [
    "lr=LogisticRegression(solver='lbfgs')\n",
    "lr.fit(Xs_train,y_train)\n",
    "\n",
    "print('Logistic regression test score', lr.score(Xs_test,y_test))\n",
    "# print('cross val score',cross_val_score(lr,X_train,y_train,cv=5).mean())\n",
    "print('Baseline accuracy: 0.919')\n",
    "\n",
    "predictions = lr.predict(Xs_test)\n",
    "\n",
    "print('accuracy score', accuracy_score(y_test,predictions))\n",
    "print('precision score', precision_score(y_test,predictions))\n",
    "print('recall score', recall_score(y_test,predictions))\n",
    "print('\\nclassification_report: ')\n",
    "print(classification_report(y_test, predictions, digits=4))\n",
    "print('\\nconfusion_matrix')\n",
    "print(confusion_matrix(y_test, predictions, labels=[1, 0]))"
   ]
  },
  {
   "cell_type": "markdown",
   "metadata": {},
   "source": [
    "- The recall measures how many times the predicted label was positive out of all the times the true label was positive.\n",
    "- The false positive rate measures how many times the predicted label was positive out of all the times the true label was negative.\n",
    "    - tp: true positives (classifier correct; classifier predicted 1)\n",
    "    - fp: false positives (classifier incorrect; classifier predicted 1)\n",
    "    - tn: true negatives (classifier correct; classifier predicted 0)\n",
    "    - fn: false negatives (classifier incorrect; classifier predicted 0)\n",
    "    \n",
    "Classification report:\n",
    "\n",
    "The row labeled as 1 uses our definitions above.\n",
    "The row labeled as 0 uses the definitions above if label 0 was considered as the positive class, hence it contains the true negative rate in the recall column.\n",
    "The accuracy is reported in the first summary line.\n",
    "The macro average takes the mean of the score for each class.\n",
    "The weighted averages takes the average of the scores for both classes weighted by the number of observations in each class."
   ]
  },
  {
   "cell_type": "code",
   "execution_count": null,
   "metadata": {},
   "outputs": [],
   "source": [
    "# kf = StratifiedKFold(n_splits=10, shuffle=True, random_state=1)\n",
    "# print('cross val score with kf',cross_val_score(lr,X_train,y_train,cv=kf).mean())\n",
    "\n"
   ]
  },
  {
   "cell_type": "code",
   "execution_count": null,
   "metadata": {},
   "outputs": [],
   "source": []
  },
  {
   "cell_type": "code",
   "execution_count": null,
   "metadata": {},
   "outputs": [],
   "source": []
  },
  {
   "cell_type": "code",
   "execution_count": null,
   "metadata": {},
   "outputs": [],
   "source": [
    "\n",
    "\n",
    "    "
   ]
  },
  {
   "cell_type": "code",
   "execution_count": 179,
   "metadata": {},
   "outputs": [
    {
     "data": {
      "text/plain": [
       "[]"
      ]
     },
     "execution_count": 179,
     "metadata": {},
     "output_type": "execute_result"
    }
   ],
   "source": [
    "Bag.estimators_features_"
   ]
  },
  {
   "cell_type": "code",
   "execution_count": null,
   "metadata": {},
   "outputs": [],
   "source": []
  },
  {
   "cell_type": "code",
   "execution_count": 80,
   "metadata": {},
   "outputs": [
    {
     "name": "stdout",
     "output_type": "stream",
     "text": [
      "test score 0.9150128040973111\n",
      "accuracy score 0.9150128040973111\n",
      "precision score 0.0\n",
      "recall score 0.0\n",
      "\n",
      "classification_report: \n",
      "              precision    recall  f1-score   support\n",
      "\n",
      "           0     0.9150    1.0000    0.9556     17151\n",
      "           1     0.0000    0.0000    0.0000      1593\n",
      "\n",
      "    accuracy                         0.9150     18744\n",
      "   macro avg     0.4575    0.5000    0.4778     18744\n",
      "weighted avg     0.8372    0.9150    0.8744     18744\n",
      "\n",
      "\n",
      "confusion_matrix\n",
      "[[    0  1593]\n",
      " [    0 17151]]\n"
     ]
    },
    {
     "name": "stderr",
     "output_type": "stream",
     "text": [
      "/Users/st/opt/anaconda3/lib/python3.7/site-packages/sklearn/metrics/_classification.py:1221: UndefinedMetricWarning: Precision is ill-defined and being set to 0.0 due to no predicted samples. Use `zero_division` parameter to control this behavior.\n",
      "  _warn_prf(average, modifier, msg_start, len(result))\n",
      "/Users/st/opt/anaconda3/lib/python3.7/site-packages/sklearn/metrics/_classification.py:1221: UndefinedMetricWarning: Precision and F-score are ill-defined and being set to 0.0 in labels with no predicted samples. Use `zero_division` parameter to control this behavior.\n",
      "  _warn_prf(average, modifier, msg_start, len(result))\n"
     ]
    }
   ],
   "source": [
    "# applying decision tree\n",
    "\n",
    "classifier = DecisionTreeClassifier(criterion='gini',\n",
    "                                    max_depth=2, \n",
    "                                    random_state=1)\n",
    "classifier.fit(Xs_train, y_train)\n",
    "\n",
    "# print('train score', classifier.score(X_train, y_train))\n",
    "# print(cross_val_score(classifier, X_train, y_train, cv=5).mean())\n",
    "print('test score', classifier.score(Xs_test, y_test))\n",
    "\n",
    "predictions = classifier.predict(Xs_test)\n",
    "\n",
    "print('accuracy score', accuracy_score(y_test,predictions))\n",
    "print('precision score', precision_score(y_test,predictions))\n",
    "print('recall score', recall_score(y_test,predictions))\n",
    "print('\\nclassification_report: ')\n",
    "print(classification_report(y_test, predictions, digits=4))\n",
    "print('\\nconfusion_matrix')\n",
    "print(confusion_matrix(y_test, predictions, labels=[1, 0]))"
   ]
  },
  {
   "cell_type": "markdown",
   "metadata": {},
   "source": [
    "- Bagging classifier with DecisionTree"
   ]
  },
  {
   "cell_type": "code",
   "execution_count": null,
   "metadata": {},
   "outputs": [],
   "source": [
    "Bag=BaggingClassifier(classifier,n_estimators=100,max_samples=1.0,max_features=0.8,random_state=1)\n",
    "print(Bag.fit(Xs_train,y_train))\n",
    "print(Bag.score(Xs_train,y_train))\n",
    "print(Bag.score(Xs_test,y_test))"
   ]
  },
  {
   "cell_type": "code",
   "execution_count": null,
   "metadata": {},
   "outputs": [],
   "source": [
    "# Visualizing the decision tree\n",
    "\n",
    "from six import StringIO\n",
    "from IPython.display import Image\n",
    "from sklearn.tree import export_graphviz\n",
    "import pydotplus\n",
    "\n",
    "dot_data = StringIO()\n",
    "\n",
    "\n",
    "def plot_dt(dt, feature_names=None):\n",
    "    print('Max depth:', classifier.max_depth)\n",
    "    dot_data = StringIO()\n",
    "    export_graphviz(dt,\n",
    "                    out_file=dot_data,\n",
    "                    filled=True,\n",
    "                    rounded=True,\n",
    "                    special_characters=True,\n",
    "                    feature_names=feature_names\n",
    "                    )\n",
    "\n",
    "    graph = pydotplus.graph_from_dot_data(dot_data.getvalue())\n",
    "    return Image(graph.create_png())\n",
    "\n",
    "plot_dt(classifier, feature_names=X_train.columns)"
   ]
  },
  {
   "cell_type": "code",
   "execution_count": null,
   "metadata": {},
   "outputs": [],
   "source": [
    "feature_imp=pd.DataFrame(list(zip(X.columns, classifier.feature_importances_)), \n",
    "             columns=['Feature', 'Importance']\n",
    "            ).sort_values(by='Importance', ascending=False)\n",
    "# feature_imp"
   ]
  },
  {
   "cell_type": "code",
   "execution_count": null,
   "metadata": {},
   "outputs": [],
   "source": [
    "# plt.barh(feature_imp,width=0.1)    select K best   linear discrimant classifier"
   ]
  },
  {
   "cell_type": "code",
   "execution_count": 100,
   "metadata": {},
   "outputs": [],
   "source": [
    "# gridsearch params\n",
    "from sklearn.model_selection import GridSearchCV\n",
    "dtc_params = {\n",
    "    'max_depth': [4,5,6,7,8],\n",
    "    'max_features': range(1, X.shape[1]+1),\n",
    "    'min_samples_split': [2, 3, 4],\n",
    "#     'ccp_alpha': [0, 0.0001, 0.001, 0.005, 0.01] \n",
    "}\n",
    "\n",
    "# set the gridsearch\n",
    "model = DecisionTreeClassifier()\n",
    "dtc_gs = GridSearchCV(model, dtc_params, cv=5,\n",
    "                      verbose=1, n_jobs=2, return_train_score=True)"
   ]
  },
  {
   "cell_type": "code",
   "execution_count": null,
   "metadata": {},
   "outputs": [
    {
     "name": "stdout",
     "output_type": "stream",
     "text": [
      "Fitting 5 folds for each of 5415 candidates, totalling 27075 fits\n"
     ]
    },
    {
     "name": "stderr",
     "output_type": "stream",
     "text": [
      "[Parallel(n_jobs=2)]: Using backend LokyBackend with 2 concurrent workers.\n",
      "[Parallel(n_jobs=2)]: Done  46 tasks      | elapsed:   15.3s\n",
      "[Parallel(n_jobs=2)]: Done 196 tasks      | elapsed:   58.7s\n",
      "[Parallel(n_jobs=2)]: Done 446 tasks      | elapsed:  2.4min\n",
      "[Parallel(n_jobs=2)]: Done 796 tasks      | elapsed:  4.6min\n",
      "[Parallel(n_jobs=2)]: Done 1246 tasks      | elapsed:  8.0min\n",
      "[Parallel(n_jobs=2)]: Done 1796 tasks      | elapsed: 12.8min\n",
      "[Parallel(n_jobs=2)]: Done 2446 tasks      | elapsed: 19.3min\n",
      "[Parallel(n_jobs=2)]: Done 3196 tasks      | elapsed: 28.0min\n",
      "[Parallel(n_jobs=2)]: Done 4046 tasks      | elapsed: 40.0min\n",
      "[Parallel(n_jobs=2)]: Done 4996 tasks      | elapsed: 59.1min\n",
      "[Parallel(n_jobs=2)]: Done 6046 tasks      | elapsed: 73.9min\n",
      "[Parallel(n_jobs=2)]: Done 7196 tasks      | elapsed: 86.5min\n",
      "[Parallel(n_jobs=2)]: Done 8446 tasks      | elapsed: 106.1min\n",
      "[Parallel(n_jobs=2)]: Done 9796 tasks      | elapsed: 132.8min\n",
      "[Parallel(n_jobs=2)]: Done 11246 tasks      | elapsed: 158.4min\n",
      "[Parallel(n_jobs=2)]: Done 12796 tasks      | elapsed: 174.6min\n",
      "[Parallel(n_jobs=2)]: Done 14446 tasks      | elapsed: 299.5min\n",
      "[Parallel(n_jobs=2)]: Done 16196 tasks      | elapsed: 348.1min\n",
      "[Parallel(n_jobs=2)]: Done 18046 tasks      | elapsed: 366.5min\n"
     ]
    }
   ],
   "source": [
    "dtc_gs.fit(Xs_train, y_train)\n",
    "\n",
    "# dtc_best = dtc_gs.best_estimator_\n",
    "# print(dtc_gs.best_params_)\n",
    "# print(dtc_gs.best_score_)"
   ]
  },
  {
   "cell_type": "markdown",
   "metadata": {},
   "source": [
    "-PCA aims to:\n",
    "\n",
    "Retain the signal in the original data, \n",
    "and Reduce noise."
   ]
  },
  {
   "cell_type": "code",
   "execution_count": null,
   "metadata": {},
   "outputs": [],
   "source": [
    "pca = PCA(n_components=20)\n",
    "pca.fit(Xs_train)\n",
    "\n",
    "# merged1_pcs = pd.DataFrame(pca.transform(X_train), columns=[f'PC_{i+1}' for i in range(pca.n_components_)])\n",
    "# demo_pcs"
   ]
  },
  {
   "cell_type": "code",
   "execution_count": null,
   "metadata": {},
   "outputs": [],
   "source": [
    "pipe = Pipeline([('pca', PCA()),\n",
    "                 ('logreg', LogisticRegression(solver='lbfgs'))])\n",
    "\n",
    "for i in range(25,35):\n",
    "    print('number of components:', i)\n",
    "    pipe.set_params(pca__n_components=i)\n",
    "    pipe.fit(X_train, y_train)\n",
    "    print('training score:', pipe.score(X_train,y_train))\n",
    "#     print('cv score:', cross_val_score(pipe, like_train, reading_train, cv=5).mean())\n",
    "    print('test score:', pipe.score(X_test, y_test))\n",
    "    \n"
   ]
  },
  {
   "cell_type": "code",
   "execution_count": null,
   "metadata": {},
   "outputs": [],
   "source": [
    "pipe.get_params"
   ]
  },
  {
   "cell_type": "code",
   "execution_count": null,
   "metadata": {},
   "outputs": [],
   "source": [
    "pipe = Pipeline([('pca', PCA()),\n",
    "                 ('classifier', DecisionTreeClassifier()) ])\n",
    "\n",
    "for i in range(50,90):\n",
    "    print('number of components:', i)\n",
    "    pipe.set_params(pca__n_components=i)\n",
    "    pipe.fit(X_train, y_train)\n",
    "    \n",
    "#     print('Log training score:', pipe.score(X_train,y_train))\n",
    "# #     print('cv score:', cross_val_score(pipe, like_train, reading_train, cv=5).mean())\n",
    "#     print('Log test score:', pipe.score(X_test, y_test))\n",
    "    \n",
    "#     print('DT train score', pipe.score(X_train, y_train))\n",
    "    # print(cross_val_score(classifier, X_train, y_train, cv=5).mean())\n",
    "    print('DT test score', pipe.score(X_test, y_test))\n",
    "\n",
    "    "
   ]
  },
  {
   "cell_type": "markdown",
   "metadata": {},
   "source": [
    "- Using DecisionTree with PCA"
   ]
  },
  {
   "cell_type": "code",
   "execution_count": null,
   "metadata": {},
   "outputs": [],
   "source": [
    "pca = PCA()\n",
    "X_pca = pca.fit_transform(X_train)"
   ]
  },
  {
   "cell_type": "code",
   "execution_count": null,
   "metadata": {},
   "outputs": [],
   "source": [
    "classifier = DecisionTreeClassifier(criterion='gini',\n",
    "                                    max_depth=7, \n",
    "                                    random_state=1)\n",
    "classifier.fit(X_pca, y_train)\n",
    "\n",
    "print('train score', classifier.score(X_pca, y_train))\n",
    "# print(cross_val_score(classifier, X_train, y_train, cv=5).mean())\n",
    "print('test score', classifier.score(Xs_test, y_test))\n"
   ]
  },
  {
   "cell_type": "code",
   "execution_count": null,
   "metadata": {},
   "outputs": [],
   "source": [
    "predictions = classifier.predict(Xs_test)\n",
    "print(\"Class predictions:\", len(predictions))\n",
    "\n",
    "\n",
    "print('accuracy score', accuracy_score(y_test,predictions))\n",
    "print('precision score', precision_score(y_test,predictions))\n",
    "print('recall score', recall_score(y_test,predictions))\n",
    "print('\\nclassification_report: ')\n",
    "print(classification_report(y_test, predictions, digits=4))\n",
    "print('\\nconfusion_matrix')\n",
    "print(confusion_matrix(y_test, predictions, labels=[1, 0]))"
   ]
  },
  {
   "cell_type": "code",
   "execution_count": null,
   "metadata": {},
   "outputs": [],
   "source": [
    "predictions = classifier.predict(X_test)\n",
    "print(\"Class predictions:\", len(predictions))\n",
    "\n",
    "\n",
    "print('accuracy score', accuracy_score(y_test,predictions))\n",
    "print('precision score', precision_score(y_test,predictions))\n",
    "print('recall score', recall_score(y_test,predictions))\n",
    "print('\\nclassification_report: ')\n",
    "print(classification_report(y_test, predictions, digits=4))\n",
    "print('\\nconfusion_matrix')\n",
    "print(confusion_matrix(y_test, predictions, labels=[1, 0]))"
   ]
  },
  {
   "cell_type": "code",
   "execution_count": null,
   "metadata": {},
   "outputs": [],
   "source": [
    "\n",
    "\n",
    "\n"
   ]
  },
  {
   "cell_type": "code",
   "execution_count": null,
   "metadata": {},
   "outputs": [],
   "source": []
  },
  {
   "cell_type": "code",
   "execution_count": null,
   "metadata": {},
   "outputs": [],
   "source": []
  },
  {
   "cell_type": "code",
   "execution_count": null,
   "metadata": {},
   "outputs": [],
   "source": []
  },
  {
   "cell_type": "code",
   "execution_count": null,
   "metadata": {},
   "outputs": [],
   "source": [
    "knn = KNeighborsClassifier(n_neighbors=9)\n",
    "\n",
    "print(knn.fit(X_pca,y_train))\n",
    "print(knn.score(Xs_test,y_test))"
   ]
  },
  {
   "cell_type": "code",
   "execution_count": null,
   "metadata": {},
   "outputs": [],
   "source": []
  },
  {
   "cell_type": "code",
   "execution_count": null,
   "metadata": {},
   "outputs": [],
   "source": [
    "# kf = StratifiedKFold(n_splits=10, shuffle=True, random_state=1)\n",
    "# lr_ridge = LogisticRegressionCV(\n",
    "#     penalty='l2', Cs=100, cv=kf, )\n",
    "# lr_ridge.fit(Xs_train, y_train)\n",
    "\n",
    "# print(lr_ridge.C_)\n",
    "# print(lr_ridge.score(Xs_train, y_train))\n",
    "# print(lr_ridge.score(Xs_test, y_test))"
   ]
  },
  {
   "cell_type": "code",
   "execution_count": null,
   "metadata": {},
   "outputs": [],
   "source": [
    "from scikitplot.decomposition import plot_pca_component_variance\n",
    "\n",
    "plot_pca_component_variance(pca, target_explained_variance=0.75, figsize=(12, 6))\n",
    "plt.show()"
   ]
  },
  {
   "cell_type": "code",
   "execution_count": null,
   "metadata": {},
   "outputs": [],
   "source": []
  }
 ],
 "metadata": {
  "kernelspec": {
   "display_name": "Python 3",
   "language": "python",
   "name": "python3"
  },
  "language_info": {
   "codemirror_mode": {
    "name": "ipython",
    "version": 3
   },
   "file_extension": ".py",
   "mimetype": "text/x-python",
   "name": "python",
   "nbconvert_exporter": "python",
   "pygments_lexer": "ipython3",
   "version": "3.7.4"
  }
 },
 "nbformat": 4,
 "nbformat_minor": 2
}
